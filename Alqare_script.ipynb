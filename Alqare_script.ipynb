{
 "cells": [
  {
   "cell_type": "code",
   "execution_count": 2,
   "id": "c671e123",
   "metadata": {
    "collapsed": true
   },
   "outputs": [
    {
     "name": "stdout",
     "output_type": "stream",
     "text": [
      "Requirement already satisfied: requests in c:\\users\\muath\\anaconda3\\lib\\site-packages (2.31.0)\n",
      "Requirement already satisfied: beautifulsoup4 in c:\\users\\muath\\anaconda3\\lib\\site-packages (4.9.3)\n",
      "Requirement already satisfied: idna<4,>=2.5 in c:\\users\\muath\\anaconda3\\lib\\site-packages (from requests) (2.10)\n",
      "Requirement already satisfied: charset-normalizer<4,>=2 in c:\\users\\muath\\anaconda3\\lib\\site-packages (from requests) (3.1.0)\n",
      "Requirement already satisfied: certifi>=2017.4.17 in c:\\users\\muath\\anaconda3\\lib\\site-packages (from requests) (2020.12.5)\n",
      "Requirement already satisfied: urllib3<3,>=1.21.1 in c:\\users\\muath\\anaconda3\\lib\\site-packages (from requests) (1.26.4)\n",
      "Requirement already satisfied: soupsieve>1.2 in c:\\users\\muath\\anaconda3\\lib\\site-packages (from beautifulsoup4) (2.2.1)\n",
      "\n",
      "[notice] A new release of pip available: 22.1.2 -> 23.2\n",
      "[notice] To update, run: python.exe -m pip install --upgrade pip\n"
     ]
    }
   ],
   "source": [
    "!pip install requests beautifulsoup4"
   ]
  },
  {
   "cell_type": "code",
   "execution_count": 2,
   "id": "fa3886e8",
   "metadata": {
    "collapsed": true
   },
   "outputs": [
    {
     "name": "stdout",
     "output_type": "stream",
     "text": [
      "Collecting selenium\n",
      "  Downloading selenium-4.11.2-py3-none-any.whl (7.2 MB)\n",
      "                                              0.0/7.2 MB ? eta -:--:--\n",
      "                                              0.1/7.2 MB 3.6 MB/s eta 0:00:02\n",
      "     --                                       0.5/7.2 MB 5.6 MB/s eta 0:00:02\n",
      "     ----                                     0.8/7.2 MB 6.7 MB/s eta 0:00:01\n",
      "     -------                                  1.3/7.2 MB 7.4 MB/s eta 0:00:01\n",
      "     --------                                 1.6/7.2 MB 7.3 MB/s eta 0:00:01\n",
      "     ----------                               2.0/7.2 MB 7.4 MB/s eta 0:00:01\n",
      "     ------------                             2.2/7.2 MB 7.1 MB/s eta 0:00:01\n",
      "     -------------                            2.4/7.2 MB 6.8 MB/s eta 0:00:01\n",
      "     --------------                           2.6/7.2 MB 6.4 MB/s eta 0:00:01\n",
      "     ----------------                         2.9/7.2 MB 6.3 MB/s eta 0:00:01\n",
      "     ------------------                       3.2/7.2 MB 6.5 MB/s eta 0:00:01\n",
      "     -------------------                      3.5/7.2 MB 6.4 MB/s eta 0:00:01\n",
      "     ---------------------                    3.9/7.2 MB 6.6 MB/s eta 0:00:01\n",
      "     ------------------------                 4.3/7.2 MB 6.8 MB/s eta 0:00:01\n",
      "     --------------------------               4.7/7.2 MB 6.8 MB/s eta 0:00:01\n",
      "     ---------------------------              4.9/7.2 MB 6.6 MB/s eta 0:00:01\n",
      "     ---------------------------              4.9/7.2 MB 6.3 MB/s eta 0:00:01\n",
      "     ---------------------------              5.0/7.2 MB 6.0 MB/s eta 0:00:01\n",
      "     ----------------------------             5.2/7.2 MB 5.9 MB/s eta 0:00:01\n",
      "     ------------------------------           5.5/7.2 MB 6.0 MB/s eta 0:00:01\n",
      "     ---------------------------------        6.0/7.2 MB 6.2 MB/s eta 0:00:01\n",
      "     -----------------------------------      6.3/7.2 MB 6.2 MB/s eta 0:00:01\n",
      "     -------------------------------------    6.7/7.2 MB 6.3 MB/s eta 0:00:01\n",
      "     --------------------------------------   6.8/7.2 MB 6.1 MB/s eta 0:00:01\n",
      "     ---------------------------------------  7.1/7.2 MB 6.1 MB/s eta 0:00:01\n",
      "     ---------------------------------------  7.2/7.2 MB 6.1 MB/s eta 0:00:01\n",
      "     ---------------------------------------- 7.2/7.2 MB 5.7 MB/s eta 0:00:00\n",
      "Requirement already satisfied: urllib3[socks]<3,>=1.26 in c:\\users\\muath\\anaconda3\\lib\\site-packages (from selenium) (1.26.16)\n",
      "Collecting trio~=0.17 (from selenium)\n",
      "  Using cached trio-0.22.2-py3-none-any.whl (400 kB)\n",
      "Collecting trio-websocket~=0.9 (from selenium)\n",
      "  Using cached trio_websocket-0.10.3-py3-none-any.whl (17 kB)\n",
      "Requirement already satisfied: certifi>=2021.10.8 in c:\\users\\muath\\anaconda3\\lib\\site-packages (from selenium) (2023.5.7)\n",
      "Requirement already satisfied: attrs>=20.1.0 in c:\\users\\muath\\anaconda3\\lib\\site-packages (from trio~=0.17->selenium) (22.1.0)\n",
      "Requirement already satisfied: sortedcontainers in c:\\users\\muath\\anaconda3\\lib\\site-packages (from trio~=0.17->selenium) (2.4.0)\n",
      "Requirement already satisfied: idna in c:\\users\\muath\\anaconda3\\lib\\site-packages (from trio~=0.17->selenium) (3.4)\n",
      "Collecting outcome (from trio~=0.17->selenium)\n",
      "  Using cached outcome-1.2.0-py2.py3-none-any.whl (9.7 kB)\n",
      "Requirement already satisfied: sniffio in c:\\users\\muath\\anaconda3\\lib\\site-packages (from trio~=0.17->selenium) (1.2.0)\n",
      "Requirement already satisfied: cffi>=1.14 in c:\\users\\muath\\anaconda3\\lib\\site-packages (from trio~=0.17->selenium) (1.15.1)\n",
      "Collecting exceptiongroup (from trio-websocket~=0.9->selenium)\n",
      "  Downloading exceptiongroup-1.1.3-py3-none-any.whl (14 kB)\n",
      "Collecting wsproto>=0.14 (from trio-websocket~=0.9->selenium)\n",
      "  Using cached wsproto-1.2.0-py3-none-any.whl (24 kB)\n",
      "Requirement already satisfied: PySocks!=1.5.7,<2.0,>=1.5.6 in c:\\users\\muath\\anaconda3\\lib\\site-packages (from urllib3[socks]<3,>=1.26->selenium) (1.7.1)\n",
      "Requirement already satisfied: pycparser in c:\\users\\muath\\anaconda3\\lib\\site-packages (from cffi>=1.14->trio~=0.17->selenium) (2.21)\n",
      "Collecting h11<1,>=0.9.0 (from wsproto>=0.14->trio-websocket~=0.9->selenium)\n",
      "  Using cached h11-0.14.0-py3-none-any.whl (58 kB)\n",
      "Installing collected packages: outcome, h11, exceptiongroup, wsproto, trio, trio-websocket, selenium\n",
      "Successfully installed exceptiongroup-1.1.3 h11-0.14.0 outcome-1.2.0 selenium-4.11.2 trio-0.22.2 trio-websocket-0.10.3 wsproto-1.2.0\n"
     ]
    }
   ],
   "source": [
    "!pip install selenium"
   ]
  },
  {
   "cell_type": "code",
   "execution_count": 3,
   "id": "a6c1fcbd",
   "metadata": {},
   "outputs": [],
   "source": [
    "import time\n",
    "import os\n",
    "from selenium import webdriver\n",
    "from selenium.webdriver.common.by import By\n"
   ]
  },
  {
   "cell_type": "code",
   "execution_count": 29,
   "id": "68149563",
   "metadata": {},
   "outputs": [
    {
     "name": "stdout",
     "output_type": "stream",
     "text": [
      "Image 'C:/Users/muath/Downloads/OnePage_alqare\\page1.png' processed.\n",
      "All images processed. Result written to 'C:/Users/muath/Downloads/OnePage_alqare\\output2.txt'\n"
     ]
    }
   ],
   "source": [
    "import time\n",
    "import os\n",
    "from selenium import webdriver\n",
    "from selenium.webdriver.common.by import By\n",
    "\n",
    "# Define the website URL\n",
    "url = \"https://arbml.github.io/ARBML/Interfaces/Website/ArabicTextDetection/index.html\"\n",
    "\n",
    "# Define the folder path containing the images\n",
    "image_folder = \"C:/Users/muath/Downloads/OnePage_alqare\"\n",
    "\n",
    "# Initialize the Chrome WebDriver\n",
    "driver = webdriver.Chrome()\n",
    "\n",
    "# Navigate to the website\n",
    "driver.get(url)\n",
    "\n",
    "# Wait for the page to load (you may need to adjust the sleep time depending on the website's loading time)\n",
    "time.sleep(5)\n",
    "\n",
    "# Initialize an empty string to store the output of all images\n",
    "output_string = \"\"\n",
    "\n",
    "# Function to process an individual image and append the result to the output string\n",
    "def process_image(image_path):\n",
    "    # Declare output_string as a global variable to be able to modify it inside the function\n",
    "    global output_string\n",
    "    try:\n",
    "        # Find the upload input element by ID and send the image file path\n",
    "        upload_input = driver.find_element(By.ID, \"preview\")\n",
    "        upload_input.send_keys(image_path)\n",
    "\n",
    "        # Wait for the file to be uploaded and the result to appear (you may need to adjust the sleep time)\n",
    "        time.sleep(10)\n",
    "\n",
    "        # Find the output text element\n",
    "        output_text_element = driver.find_element(By.ID, \"output-text\")\n",
    "\n",
