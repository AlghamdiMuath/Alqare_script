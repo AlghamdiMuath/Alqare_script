{
 "cells": [
  {
   "cell_type": "code",
   "execution_count": 2,
   "id": "c671e123",
   "metadata": {
    "collapsed": true
   },
   "outputs": [
    {
     "name": "stdout",
     "output_type": "stream",
     "text": [
      "Requirement already satisfied: requests in c:\\users\\muath\\anaconda3\\lib\\site-packages (2.31.0)\n",
      "Requirement already satisfied: beautifulsoup4 in c:\\users\\muath\\anaconda3\\lib\\site-packages (4.9.3)\n",
      "Requirement already satisfied: idna<4,>=2.5 in c:\\users\\muath\\anaconda3\\lib\\site-packages (from requests) (2.10)\n",
      "Requirement already satisfied: charset-normalizer<4,>=2 in c:\\users\\muath\\anaconda3\\lib\\site-packages (from requests) (3.1.0)\n",
      "Requirement already satisfied: certifi>=2017.4.17 in c:\\users\\muath\\anaconda3\\lib\\site-packages (from requests) (2020.12.5)\n",
      "Requirement already satisfied: urllib3<3,>=1.21.1 in c:\\users\\muath\\anaconda3\\lib\\site-packages (from requests) (1.26.4)\n",
      "Requirement already satisfied: soupsieve>1.2 in c:\\users\\muath\\anaconda3\\lib\\site-packages (from beautifulsoup4) (2.2.1)\n",
      "\n",
      "[notice] A new release of pip available: 22.1.2 -> 23.2\n",
      "[notice] To update, run: python.exe -m pip install --upgrade pip\n"
     ]
    }
   ],
   "source": [
    "!pip install requests beautifulsoup4"
   ]
  },
  {
   "cell_type": "code",
   "execution_count": 2,
   "id": "fa3886e8",
   "metadata": {
    "collapsed": true
   },
   "outputs": [
    {
     "name": "stdout",
     "output_type": "stream",
     "text": [
      "Collecting selenium\n",
      "  Downloading selenium-4.11.2-py3-none-any.whl (7.2 MB)\n",
      "                                              0.0/7.2 MB ? eta -:--:--\n",
      "                                              0.1/7.2 MB 3.6 MB/s eta 0:00:02\n",
      "     --                                       0.5/7.2 MB 5.6 MB/s eta 0:00:02\n",
      "     ----                                     0.8/7.2 MB 6.7 MB/s eta 0:00:01\n",
      "     -------                                  1.3/7.2 MB 7.4 MB/s eta 0:00:01\n",
      "     --------                                 1.6/7.2 MB 7.3 MB/s eta 0:00:01\n",
      "     ----------                               2.0/7.2 MB 7.4 MB/s eta 0:00:01\n",
      "     ------------                             2.2/7.2 MB 7.1 MB/s eta 0:00:01\n",
      "     -------------                            2.4/7.2 MB 6.8 MB/s eta 0:00:01\n",
      "     --------------                           2.6/7.2 MB 6.4 MB/s eta 0:00:01\n",
      "     ----------------                         2.9/7.2 MB 6.3 MB/s eta 0:00:01\n",
      "     ------------------                       3.2/7.2 MB 6.5 MB/s eta 0:00:01\n",
      "     -------------------                      3.5/7.2 MB 6.4 MB/s eta 0:00:01\n",
      "     ---------------------                    3.9/7.2 MB 6.6 MB/s eta 0:00:01\n",
      "     ------------------------                 4.3/7.2 MB 6.8 MB/s eta 0:00:01\n",
      "     --------------------------               4.7/7.2 MB 6.8 MB/s eta 0:00:01\n",
      "     ---------------------------              4.9/7.2 MB 6.6 MB/s eta 0:00:01\n",
      "     ---------------------------              4.9/7.2 MB 6.3 MB/s eta 0:00:01\n",
      "     ---------------------------              5.0/7.2 MB 6.0 MB/s eta 0:00:01\n",
      "     ----------------------------             5.2/7.2 MB 5.9 MB/s eta 0:00:01\n",
      "     ------------------------------           5.5/7.2 MB 6.0 MB/s eta 0:00:01\n",
      "     ---------------------------------        6.0/7.2 MB 6.2 MB/s eta 0:00:01\n",
      "     -----------------------------------      6.3/7.2 MB 6.2 MB/s eta 0:00:01\n",
      "     -------------------------------------    6.7/7.2 MB 6.3 MB/s eta 0:00:01\n",
      "     --------------------------------------   6.8/7.2 MB 6.1 MB/s eta 0:00:01\n",
      "     ---------------------------------------  7.1/7.2 MB 6.1 MB/s eta 0:00:01\n",
      "     ---------------------------------------  7.2/7.2 MB 6.1 MB/s eta 0:00:01\n",
      "     ---------------------------------------- 7.2/7.2 MB 5.7 MB/s eta 0:00:00\n",
      "Requirement already satisfied: urllib3[socks]<3,>=1.26 in c:\\users\\muath\\anaconda3\\lib\\site-packages (from selenium) (1.26.16)\n",
      "Collecting trio~=0.17 (from selenium)\n",
      "  Using cached trio-0.22.2-py3-none-any.whl (400 kB)\n",
      "Collecting trio-websocket~=0.9 (from selenium)\n",
      "  Using cached trio_websocket-0.10.3-py3-none-any.whl (17 kB)\n",
      "Requirement already satisfied: certifi>=2021.10.8 in c:\\users\\muath\\anaconda3\\lib\\site-packages (from selenium) (2023.5.7)\n",
      "Requirement already satisfied: attrs>=20.1.0 in c:\\users\\muath\\anaconda3\\lib\\site-packages (from trio~=0.17->selenium) (22.1.0)\n",
