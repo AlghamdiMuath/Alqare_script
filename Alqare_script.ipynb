{
 "cells": [
  {
   "cell_type": "code",
   "execution_count": 2,
   "id": "c671e123",
   "metadata": {
    "collapsed": true
   },
   "outputs": [
