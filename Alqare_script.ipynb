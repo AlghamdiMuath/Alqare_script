{
 "cells": [
  {
   "cell_type": "code",
   "execution_count": 2,
   "id": "c671e123",
   "metadata": {
    "collapsed": true
   },
   "outputs": [
    {
     "name": "stdout",
     "output_type": "stream",
     "text": [
      "Requirement already satisfied: requests in c:\\users\\muath\\anaconda3\\lib\\site-packages (2.31.0)\n",
      "Requirement already satisfied: beautifulsoup4 in c:\\users\\muath\\anaconda3\\lib\\site-packages (4.9.3)\n",
      "Requirement already satisfied: idna<4,>=2.5 in c:\\users\\muath\\anaconda3\\lib\\site-packages (from requests) (2.10)\n",
      "Requirement already satisfied: charset-normalizer<4,>=2 in c:\\users\\muath\\anaconda3\\lib\\site-packages (from requests) (3.1.0)\n",
      "Requirement already satisfied: certifi>=2017.4.17 in c:\\users\\muath\\anaconda3\\lib\\site-packages (from requests) (2020.12.5)\n",
      "Requirement already satisfied: urllib3<3,>=1.21.1 in c:\\users\\muath\\anaconda3\\lib\\site-packages (from requests) (1.26.4)\n",
      "Requirement already satisfied: soupsieve>1.2 in c:\\users\\muath\\anaconda3\\lib\\site-packages (from beautifulsoup4) (2.2.1)\n",
      "\n",
      "[notice] A new release of pip available: 22.1.2 -> 23.2\n",
      "[notice] To update, run: python.exe -m pip install --upgrade pip\n"
     ]
    }
   ],
   "source": [
    "!pip install requests beautifulsoup4"
   ]
